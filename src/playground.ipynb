{
 "cells": [
  {
   "cell_type": "code",
   "execution_count": null,
   "metadata": {},
   "outputs": [],
   "source": [
    "from pathlib import Path\n",
    "\n",
    "import pandas as pd\n",
    "import matplotlib.pyplot as plt"
   ]
  },
  {
   "cell_type": "code",
   "execution_count": null,
   "metadata": {},
   "outputs": [],
   "source": [
    "from typing import Tuple\n",
    "\n",
    "outputs_path = Path(\"../outputs\")\n",
    "\n",
    "\n",
    "def load_scenario_data(name: str = None) -> Tuple[pd.DataFrame, pd.DataFrame]:\n",
    "    name = \"current\" if name is None else name\n",
    "    scenario_path = outputs_path / name\n",
    "    scenario_data_path = scenario_path / \"data\"\n",
    "\n",
    "    print(f\"Using Scenario path: {scenario_path}\")\n",
    "    trips_df: pd.DataFrame = None\n",
    "    route_times = []\n",
    "    elapsed_times = []\n",
    "    for path in scenario_data_path.iterdir():\n",
    "        if not path.is_dir():\n",
    "            continue\n",
    "\n",
    "        try:\n",
    "            scenario_df = pd.read_csv(path / \"trips.csv\", skipinitialspace=True)\n",
    "            trips_df = pd.concat([trips_df, scenario_df], ignore_index=True)\n",
    "\n",
    "            with open(path / \"results.txt\", \"r\") as f:\n",
    "                lines = f.readlines()\n",
    "                route_times.append(float(lines[3].split()[2]))\n",
    "                elapsed_times.append(float(lines[5].split()[2]))\n",
    "\n",
    "        except Exception:\n",
    "            pass\n",
    "\n",
    "    env = \"\"\n",
    "    with open(scenario_path / \".conf\", \"r\") as f:\n",
    "        env = \"\".join([l.split(\"#\")[0] for l in f.readlines()])\n",
    "\n",
    "    ran_at = \"\"\n",
    "    with open(scenario_path / \".run_at\", \"r\") as f:\n",
    "        ran_at = f.readline()\n",
    "\n",
    "    routes_df = pd.DataFrame(\n",
    "        {\"ROUTE_TIMES\": route_times, \"ELAPSED_TIMES\": elapsed_times}\n",
    "    )\n",
    "\n",
    "    return (trips_df, routes_df, env, ran_at)"
   ]
  },
  {
   "cell_type": "code",
   "execution_count": null,
   "metadata": {},
   "outputs": [],
   "source": [
    "trips, route_results, env, ran_at = load_scenario_data()\n",
    "scenario_name = \"Scenario\"\n",
    "print(\"Ran At: \", ran_at)"
   ]
  },
  {
   "cell_type": "code",
   "execution_count": null,
   "metadata": {},
   "outputs": [],
   "source": [
    "print(env)"
   ]
  },
  {
   "cell_type": "code",
   "execution_count": null,
   "metadata": {},
   "outputs": [],
   "source": [
    "from models import ReservationStatus\n",
    "\n",
    "trips.loc[trips.RESERVATION_STATUS == str(ReservationStatus.REJECTED)]"
   ]
  },
  {
   "cell_type": "code",
   "execution_count": null,
   "metadata": {},
   "outputs": [],
   "source": [
    "import seaborn as sns\n",
    "\n",
    "colors = {\"ACCEPTED\": \"blue\", \"REJECTED\": \"red\"}\n",
    "\n",
    "# Use seaborn to create the bar plot\n",
    "trips_df = trips\n",
    "sns.histplot(\n",
    "    data=trips_df,\n",
    "    x=\"RESERVED_AT\",\n",
    "    hue=\"RESERVATION_STATUS\",\n",
    "    multiple=\"stack\",\n",
    "    palette=colors,\n",
    "    shrink=0.8,\n",
    "    bins=range(0, 70, 10),\n",
    ")\n",
    "plt.xlabel(\"Reserved At\")\n",
    "plt.ylabel(\"Count\")\n",
    "plt.title(\"Count vs Reserved At\")\n",
    "plt.show()"
   ]
  },
  {
   "cell_type": "code",
   "execution_count": null,
   "metadata": {},
   "outputs": [],
   "source": [
    "colors = {\"ACCEPTED\": \"blue\", \"REJECTED\": \"red\"}\n",
    "sns.histplot(\n",
    "    data=trips_df,\n",
    "    x=\"RESERVATION_STATUS\",\n",
    "    stat=\"percent\",\n",
    "    hue=\"RESERVATION_STATUS\",\n",
    "    palette=colors,\n",
    "    shrink=0.8,\n",
    "    bins=range(0, 61, 5),\n",
    ")\n",
    "\n",
    "plt.xlabel(\"Reservation Status\")\n",
    "plt.ylabel(\"%\")\n",
    "plt.title(\"Reservation Status %\")\n",
    "plt.show()"
   ]
  },
  {
   "cell_type": "code",
   "execution_count": null,
   "metadata": {},
   "outputs": [],
   "source": [
    "trips_df = trips\n",
    "direction_counts = trips_df[\"DIRECTION\"].value_counts()\n",
    "plt.figure(figsize=(7, 5))\n",
    "direction_counts.plot(kind=\"bar\", color=[\"blue\", \"orange\"])\n",
    "plt.xlabel(\"Direction\")\n",
    "plt.ylabel(\"Count\")\n",
    "plt.xticks(rotation=0)\n",
    "plt.title(\"Count of Directions\")\n",
    "plt.show()"
   ]
  },
  {
   "cell_type": "code",
   "execution_count": null,
   "metadata": {},
   "outputs": [],
   "source": [
    "def plot_kde_for(df, x: str, hue: str = None, pallete: list = None):\n",
    "    sns.kdeplot(\n",
    "        data=df,\n",
    "        x=x,\n",
    "        hue=hue,\n",
    "        fill=True,\n",
    "        common_norm=False,\n",
    "        palette=pallete,\n",
    "        alpha=0.5,\n",
    "        linewidth=0,\n",
    "    )\n",
    "\n",
    "\n",
    "routes_df = None\n",
    "scenario_routes_df = route_results\n",
    "scenario_routes_df[\"NAME\"] = scenario_name\n",
    "routes_df = pd.concat([routes_df, scenario_routes_df], ignore_index=True)\n",
    "\n",
    "# plot_kde_for(routes_df, \"ROUTE_TIMES\", \"NAME\", [\"red\", \"blue\"])"
   ]
  },
  {
   "cell_type": "code",
   "execution_count": null,
   "metadata": {},
   "outputs": [],
   "source": [
    "plot_kde_for(scenario_routes_df, \"ROUTE_TIMES\", \"NAME\", [\"red\"])\n",
    "plt.title(f\"Route times\")\n",
    "plt.legend(loc=\"upper left\")\n",
    "plt.xlabel(\"Route times (Minutes)\")"
   ]
  },
  {
   "cell_type": "code",
   "execution_count": null,
   "metadata": {},
   "outputs": [],
   "source": [
    "plot_kde_for(scenario_routes_df, \"ELAPSED_TIMES\", \"NAME\", [\"blue\"])\n",
    "plt.title(f\"Computation Elapsed time\")\n",
    "plt.xlabel(\"Elapsed time (Seconds)\")"
   ]
  },
  {
   "cell_type": "code",
   "execution_count": null,
   "metadata": {},
   "outputs": [],
   "source": [
    "sns.histplot(\n",
    "    data=scenario_routes_df,\n",
    "    x=\"ROUTE_TIMES\",\n",
    "    palette=colors,\n",
    "    stat=\"count\",\n",
    "    shrink=0.8,\n",
    "    bins=10,\n",
    "    common_norm=False,\n",
    "    kde=True,\n",
    ")"
   ]
  },
  {
   "cell_type": "code",
   "execution_count": null,
   "metadata": {},
   "outputs": [],
   "source": [
    "# scenario_one_routes_df = routes_df[routes_df[\"NAME\"] == \"ScenarioOne\"]\n",
    "\n",
    "# plot_kde_for(scenario_one_routes_df, \"ROUTE_TIMES\", \"NAME\", [\"blue\"])\n",
    "# plt.title(\"When Reservations' T >= 50 are considered\")\n",
    "# plt.legend(loc=\"upper left\")"
   ]
  },
  {
   "cell_type": "code",
   "execution_count": null,
   "metadata": {},
   "outputs": [],
   "source": [
    "import numpy as np\n",
    "\n",
    "# Calculate the mean and variance for each column\n",
    "mean = np.mean(route_results[\"ROUTE_TIMES\"], axis=0)\n",
    "variance = np.var(route_results[\"ROUTE_TIMES\"], axis=0)\n",
    "\n",
    "print(\"Mean Route time: \", mean, \" minutes\")\n",
    "print(\"Route time Variance: \", variance, \" minutes\")"
   ]
  }
 ],
 "metadata": {
  "kernelspec": {
   "display_name": ".venv",
   "language": "python",
   "name": "python3"
  },
  "language_info": {
   "codemirror_mode": {
    "name": "ipython",
    "version": 3
   },
   "file_extension": ".py",
   "mimetype": "text/x-python",
   "name": "python",
   "nbconvert_exporter": "python",
   "pygments_lexer": "ipython3",
   "version": "3.12.3"
  }
 },
 "nbformat": 4,
 "nbformat_minor": 2
}
