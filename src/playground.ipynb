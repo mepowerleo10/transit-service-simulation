{
 "cells": [
  {
   "cell_type": "code",
   "execution_count": null,
   "metadata": {},
   "outputs": [],
   "source": [
    "from pathlib import Path\n",
    "\n",
    "import pandas as pd\n",
    "import matplotlib.pyplot as plt\n",
    "\n",
    "import env"
   ]
  },
  {
   "cell_type": "code",
   "execution_count": null,
   "metadata": {},
   "outputs": [],
   "source": [
    "from typing import Tuple\n",
    "\n",
    "\n",
    "def load_scenario_data(\n",
    "    name: str, path: Path = None\n",
    ") -> Tuple[pd.DataFrame, pd.DataFrame]:\n",
    "    scenario_path = path if path else Path(\"../\" / env.OUTPUT_DIR / name)\n",
    "    # scenario_path = Path(\"../output-2024-06-03_22:30:31\") / name\n",
    "\n",
    "    print(f\"Using Scenario path: {scenario_path}\")\n",
    "    trips_df: pd.DataFrame = None\n",
    "    route_times = []\n",
    "    elapsed_times = []\n",
    "    for directory in scenario_path.iterdir():\n",
    "        try:\n",
    "            scenario_df = pd.read_csv(directory / \"trips.csv\", skipinitialspace=True)\n",
    "            trips_df = pd.concat([trips_df, scenario_df], ignore_index=True)\n",
    "\n",
    "            with open(directory / \"results.txt\", \"r\") as f:\n",
    "                lines = f.readlines()\n",
    "                route_times.append(float(lines[3].split()[2]))\n",
    "                elapsed_times.append(float(lines[5].split()[2]))\n",
    "\n",
    "        except Exception:\n",
    "            pass\n",
    "\n",
    "    routes_df = pd.DataFrame(\n",
    "        {\"ROUTE_TIMES\": route_times, \"ELAPSED_TIMES\": elapsed_times}\n",
    "    )\n",
    "\n",
    "    return (trips_df, routes_df)"
   ]
  },
  {
   "cell_type": "code",
   "execution_count": null,
   "metadata": {},
   "outputs": [],
   "source": [
    "# scenarios_data = {\n",
    "#     \"ScenarioZero\": load_scenario_data(\"ScenarioZero\"),\n",
    "#     \"ScenarioOne\": load_scenario_data(\"ScenarioOne\"),\n",
    "# }\n",
    "\n",
    "from scenarios import ScenarioAllBelowCuttof, ScenarioZero\n",
    "\n",
    "class_name = ScenarioZero.__name__\n",
    "path = Path(f\"../{env.OUTPUT_DIR}-2024-06-12_22:49:03/{class_name}\")\n",
    "trips, route_results = load_scenario_data(class_name, path)\n",
    "scenario_name = \"Scenario 0\""
   ]
  },
  {
   "cell_type": "code",
   "execution_count": null,
   "metadata": {},
   "outputs": [],
   "source": [
    "from models import ReservationStatus\n",
    "\n",
    "\n",
    "trips.loc[trips.RESERVATION_STATUS == str(ReservationStatus.REJECTED)]"
   ]
  },
  {
   "cell_type": "code",
   "execution_count": null,
   "metadata": {},
   "outputs": [],
   "source": [
    "import seaborn as sns\n",
    "\n",
    "colors = {\"ACCEPTED\": \"blue\", \"REJECTED\": \"red\"}\n",
    "\n",
    "# Use seaborn to create the bar plot\n",
    "trips_df = trips\n",
    "sns.histplot(\n",
    "    data=trips_df,\n",
    "    x=\"RESERVED_AT\",\n",
    "    hue=\"RESERVATION_STATUS\",\n",
    "    multiple=\"stack\",\n",
    "    palette=colors,\n",
    "    shrink=0.8,\n",
    "    bins=range(0, 70, 10),\n",
    ")\n",
    "plt.xlabel(\"Reserved At\")\n",
    "plt.ylabel(\"Count\")\n",
    "plt.title(\"Count vs Reserved At\")\n",
    "plt.show()"
   ]
  },
  {
   "cell_type": "code",
   "execution_count": null,
   "metadata": {},
   "outputs": [],
   "source": [
    "colors = {\"ACCEPTED\": \"blue\", \"REJECTED\": \"red\"}\n",
    "sns.histplot(\n",
    "    data=trips_df,\n",
    "    x=\"RESERVATION_STATUS\",\n",
    "    stat=\"percent\",\n",
    "    hue=\"RESERVATION_STATUS\",\n",
    "    palette=colors,\n",
    "    shrink=0.8,\n",
    "    bins=range(0, 61, 5),\n",
    ")\n",
    "\n",
    "plt.xlabel(\"Reservation Status\")\n",
    "plt.ylabel(\"%\")\n",
    "plt.title(\"Reservation Status %\")\n",
    "plt.show()"
   ]
  },
  {
   "cell_type": "code",
   "execution_count": null,
   "metadata": {},
   "outputs": [],
   "source": [
    "trips_df = trips\n",
    "direction_counts = trips_df[\"DIRECTION\"].value_counts()\n",
    "plt.figure(figsize=(7, 5))\n",
    "direction_counts.plot(kind=\"bar\", color=[\"blue\", \"orange\"])\n",
    "plt.xlabel(\"Direction\")\n",
    "plt.ylabel(\"Count\")\n",
    "plt.xticks(rotation=0)\n",
    "plt.title(\"Count of Directions\")\n",
    "plt.show()"
   ]
  },
  {
   "cell_type": "code",
   "execution_count": null,
   "metadata": {},
   "outputs": [],
   "source": [
    "def plot_kde_for(df, x: str, hue: str = None, pallete: list = None):\n",
    "    sns.kdeplot(\n",
    "        data=df,\n",
    "        x=x,\n",
    "        hue=hue,\n",
    "        fill=True,\n",
    "        common_norm=False,\n",
    "        palette=pallete,\n",
    "        alpha=0.5,\n",
    "        linewidth=0,\n",
    "    )\n",
    "\n",
    "\n",
    "routes_df = None\n",
    "scenario_routes_df = route_results\n",
    "scenario_routes_df[\"NAME\"] = scenario_name\n",
    "routes_df = pd.concat([routes_df, scenario_routes_df], ignore_index=True)\n",
    "\n",
    "# plot_kde_for(routes_df, \"ROUTE_TIMES\", \"NAME\", [\"red\", \"blue\"])"
   ]
  },
  {
   "cell_type": "code",
   "execution_count": null,
   "metadata": {},
   "outputs": [],
   "source": [
    "scenario_zero_routes_df = routes_df[routes_df[\"NAME\"] == scenario_name]\n",
    "\n",
    "plot_kde_for(scenario_zero_routes_df, \"ROUTE_TIMES\", \"NAME\", [\"red\"])\n",
    "plt.title(\n",
    "    f\"Route times, When Reservations' T >= {env.RESERVATION_CUTOFF} are not considered\"\n",
    ")\n",
    "plt.legend(loc=\"upper left\")\n",
    "plt.xlabel(\"Route times (Minutes)\")"
   ]
  },
  {
   "cell_type": "code",
   "execution_count": null,
   "metadata": {},
   "outputs": [],
   "source": [
    "plot_kde_for(scenario_zero_routes_df, \"ELAPSED_TIMES\", \"NAME\", [\"blue\"])\n",
    "plt.title(\n",
    "    f\"Computation Elapsed time, When Reservations' T >= {env.RESERVATION_CUTOFF} are not considered\"\n",
    ")\n",
    "plt.xlabel(\"Elapsed time (Seconds)\")"
   ]
  },
  {
   "cell_type": "code",
   "execution_count": null,
   "metadata": {},
   "outputs": [],
   "source": [
    "sns.histplot(\n",
    "    data=scenario_zero_routes_df,\n",
    "    x=\"ROUTE_TIMES\",\n",
    "    palette=colors,\n",
    "    stat=\"count\",\n",
    "    shrink=0.8,\n",
    "    # bins=range(0, 60, 2),\n",
    "    common_norm=False,\n",
    "    kde=True,\n",
    ")"
   ]
  },
  {
   "cell_type": "code",
   "execution_count": null,
   "metadata": {},
   "outputs": [],
   "source": [
    "# scenario_one_routes_df = routes_df[routes_df[\"NAME\"] == \"ScenarioOne\"]\n",
    "\n",
    "# plot_kde_for(scenario_one_routes_df, \"ROUTE_TIMES\", \"NAME\", [\"blue\"])\n",
    "# plt.title(\"When Reservations' T >= 50 are considered\")\n",
    "# plt.legend(loc=\"upper left\")"
   ]
  },
  {
   "cell_type": "code",
   "execution_count": null,
   "metadata": {},
   "outputs": [],
   "source": [
    "import numpy as np\n",
    "\n",
    "# Calculate the mean and variance for each column\n",
    "mean = np.mean(route_results[\"ROUTE_TIMES\"], axis=0)\n",
    "variance = np.var(route_results[\"ROUTE_TIMES\"], axis=0)\n",
    "\n",
    "print(\"Mean Route time: \", mean, \" minutes\")\n",
    "print(\"Route time Variance: \", variance, \" minutes\")"
   ]
  }
 ],
 "metadata": {
  "kernelspec": {
   "display_name": ".venv",
   "language": "python",
   "name": "python3"
  },
  "language_info": {
   "codemirror_mode": {
    "name": "ipython",
    "version": 3
   },
   "file_extension": ".py",
   "mimetype": "text/x-python",
   "name": "python",
   "nbconvert_exporter": "python",
   "pygments_lexer": "ipython3",
   "version": "3.12.3"
  }
 },
 "nbformat": 4,
 "nbformat_minor": 2
}
