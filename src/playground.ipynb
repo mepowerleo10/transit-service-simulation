{
 "cells": [
  {
   "cell_type": "code",
   "execution_count": 1,
   "metadata": {},
   "outputs": [],
   "source": [
    "import numpy as np\n",
    "import matplotlib.pyplot as plt"
   ]
  },
  {
   "cell_type": "code",
   "execution_count": 2,
   "metadata": {},
   "outputs": [
    {
     "name": "stdout",
     "output_type": "stream",
     "text": [
      "[ 0.     1.111  2.223  3.334  4.445  5.555  6.668  7.777  8.89  10.   ]\n"
     ]
    }
   ],
   "source": [
    "# Define the range for x and y coordinates\n",
    "x = np.linspace(0, 10, 10, dtype=np.float16)\n",
    "y = np.linspace(0, 9, 10, dtype=np.int64)\n",
    "\n",
    "# Create a grid of coordinates\n",
    "X, Y = np.meshgrid(x, y, indexing=\"xy\")\n",
    "x_coords = X.flatten()\n",
    "y_coords = Y.flatten()\n",
    "\n",
    "print(x)"
   ]
  },
  {
   "cell_type": "code",
   "execution_count": 3,
   "metadata": {},
   "outputs": [
    {
     "data": {
      "image/png": "[encoded data removed]",
      "text/plain": [
       "<Figure size 640x480 with 1 Axes>"
      ]
     },
     "metadata": {},
     "output_type": "display_data"
    }
   ],
   "source": [
    "plt.scatter(x_coords, y_coords, c=\"r\", marker=\"o\")\n",
    "plt.grid(True)\n",
    "plt.show()"
   ]
  },
  {
   "cell_type": "code",
   "execution_count": 4,
   "metadata": {},
   "outputs": [
    {
     "data": {
      "text/plain": [
       "array([[ 0.        ,  1.11132812,  2.22265625, ..., 11.894834  ,\n",
       "        12.65081866, 13.45362405],\n",
       "       [ 1.11132812,  0.        ,  1.11132812, ..., 11.19981091,\n",
       "        11.89611112, 12.64944614],\n",
       "       [ 2.22265625,  1.11132812,  0.        , ..., 10.5761313 ,\n",
       "        11.2009735 , 11.894834  ],\n",
       "       ...,\n",
       "       [11.894834  , 11.19981091, 10.5761313 , ...,  0.        ,\n",
       "         1.11328125,  2.22265625],\n",
       "       [12.65081866, 11.89611112, 11.2009735 , ...,  1.11328125,\n",
       "         0.        ,  1.109375  ],\n",
       "       [13.45362405, 12.64944614, 11.894834  , ...,  2.22265625,\n",
       "         1.109375  ,  0.        ]])"
      ]
     },
     "execution_count": 4,
     "metadata": {},
     "output_type": "execute_result"
    }
   ],
   "source": [
    "from scipy.spatial import distance_matrix\n",
    "\n",
    "coords = np.column_stack((x_coords, y_coords))\n",
    "distance_matrix(coords, coords)"
   ]
  },
  {
   "cell_type": "code",
   "execution_count": 1,
   "metadata": {},
   "outputs": [
    {
     "name": "stdout",
     "output_type": "stream",
     "text": [
      "[ 5. 15. 25. 35. 45. 55. 65. 75. 85. 95.  5. 15. 25. 35. 45. 55. 65. 75.\n",
      " 85. 95.  5. 15. 25. 35. 45. 55. 65. 75. 85. 95.  5. 15. 25. 35. 45. 55.\n",
      " 65. 75. 85. 95.  5. 15. 25. 35. 45. 55. 65. 75. 85. 95.  5. 15. 25. 35.\n",
      " 45. 55. 65. 75. 85. 95.  5. 15. 25. 35. 45. 55. 65. 75. 85. 95.  5. 15.\n",
      " 25. 35. 45. 55. 65. 75. 85. 95.  5. 15. 25. 35. 45. 55. 65. 75. 85. 95.\n",
      "  5. 15. 25. 35. 45. 55. 65. 75. 85. 95.]\n"
     ]
    },
    {
     "ename": "NameError",
     "evalue": "name 'plt' is not defined",
     "output_type": "error",
     "traceback": [
      "\u001b[0;31m---------------------------------------------------------------------------\u001b[0m",
      "\u001b[0;31mNameError\u001b[0m                                 Traceback (most recent call last)",
      "Cell \u001b[0;32mIn[1], line 11\u001b[0m\n\u001b[1;32m      7\u001b[0m region \u001b[38;5;241m=\u001b[39m scenario\u001b[38;5;241m.\u001b[39mservice_region\n\u001b[1;32m      9\u001b[0m \u001b[38;5;28mprint\u001b[39m(region\u001b[38;5;241m.\u001b[39mstops_coords[\u001b[38;5;241m0\u001b[39m])\n\u001b[0;32m---> 11\u001b[0m \u001b[43mplt\u001b[49m\u001b[38;5;241m.\u001b[39mscatter(region\u001b[38;5;241m.\u001b[39mstops_coords[\u001b[38;5;241m0\u001b[39m], region\u001b[38;5;241m.\u001b[39mstops_coords[\u001b[38;5;241m1\u001b[39m], c\u001b[38;5;241m=\u001b[39m\u001b[38;5;124m\"\u001b[39m\u001b[38;5;124mr\u001b[39m\u001b[38;5;124m\"\u001b[39m, marker\u001b[38;5;241m=\u001b[39m\u001b[38;5;124m\"\u001b[39m\u001b[38;5;124mo\u001b[39m\u001b[38;5;124m\"\u001b[39m)\n\u001b[1;32m     12\u001b[0m plt\u001b[38;5;241m.\u001b[39mgrid(\u001b[38;5;28;01mTrue\u001b[39;00m)\n\u001b[1;32m     13\u001b[0m plt\u001b[38;5;241m.\u001b[39mshow()\n",
      "\u001b[0;31mNameError\u001b[0m: name 'plt' is not defined"
     ]
    }
   ],
   "source": [
    "from scenarios import ScenarioZero\n",
    "\n",
    "scenario = ScenarioZero(\n",
    "    num_of_zones_per_row=10, zone_length=10, lambda_param=0.5, planning_horizon=0.3\n",
    ")\n",
    "\n",
    "region = scenario.service_region\n",
    "\n",
    "print(region.stops_coords[0])\n",
    "\n",
    "plt.scatter(region.stops_coords[0], region.stops_coords[1], c=\"r\", marker=\"o\")\n",
    "plt.grid(True)\n",
    "plt.show()\n",
    "\n",
    "print(region.stops_distance_matrix)"
   ]
  }
 ],
 "metadata": {
  "kernelspec": {
   "display_name": ".venv",
   "language": "python",
   "name": "python3"
  },
  "language_info": {
   "codemirror_mode": {
    "name": "ipython",
    "version": 3
   },
   "file_extension": ".py",
   "mimetype": "text/x-python",
   "name": "python",
   "nbconvert_exporter": "python",
   "pygments_lexer": "ipython3",
   "version": "3.12.3"
  }
 },
 "nbformat": 4,
 "nbformat_minor": 2
}
